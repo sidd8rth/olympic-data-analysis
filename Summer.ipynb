{
 "cells": [
  {
   "cell_type": "code",
   "execution_count": 1,
   "metadata": {},
   "outputs": [
    {
     "name": "stdout",
     "output_type": "stream",
     "text": [
      "Requirement already satisfied: pandas in /home/siddharth/anaconda3/envs/pythonProject/lib/python3.9/site-packages (1.3.3)\r\n",
      "Requirement already satisfied: pytz>=2017.3 in /home/siddharth/anaconda3/envs/pythonProject/lib/python3.9/site-packages (from pandas) (2021.1)\r\n",
      "Requirement already satisfied: numpy>=1.17.3 in /home/siddharth/anaconda3/envs/pythonProject/lib/python3.9/site-packages (from pandas) (1.21.2)\r\n",
      "Requirement already satisfied: python-dateutil>=2.7.3 in /home/siddharth/anaconda3/envs/pythonProject/lib/python3.9/site-packages (from pandas) (2.8.2)\r\n",
      "Requirement already satisfied: six>=1.5 in /home/siddharth/anaconda3/envs/pythonProject/lib/python3.9/site-packages (from python-dateutil>=2.7.3->pandas) (1.16.0)\r\n"
     ]
    }
   ],
   "source": [
    "!pip install pandas"
   ]
  },
  {
   "cell_type": "code",
   "execution_count": 2,
   "metadata": {},
   "outputs": [
    {
     "data": {
      "text/plain": "       Year    City      Sport           Discipline  \\\n0      1896  Athens   Aquatics             Swimming   \n1      1896  Athens   Aquatics             Swimming   \n2      1896  Athens   Aquatics             Swimming   \n3      1896  Athens   Aquatics             Swimming   \n4      1896  Athens   Aquatics             Swimming   \n...     ...     ...        ...                  ...   \n31160  2012  London  Wrestling  Wrestling Freestyle   \n31161  2012  London  Wrestling  Wrestling Freestyle   \n31162  2012  London  Wrestling  Wrestling Freestyle   \n31163  2012  London  Wrestling  Wrestling Freestyle   \n31164  2012  London  Wrestling  Wrestling Freestyle   \n\n                         Athlete Country Gender                       Event  \\\n0                  HAJOS, Alfred     HUN    Men              100M Freestyle   \n1               HERSCHMANN, Otto     AUT    Men              100M Freestyle   \n2              DRIVAS, Dimitrios     GRE    Men  100M Freestyle For Sailors   \n3             MALOKINIS, Ioannis     GRE    Men  100M Freestyle For Sailors   \n4             CHASAPIS, Spiridon     GRE    Men  100M Freestyle For Sailors   \n...                          ...     ...    ...                         ...   \n31160         JANIKOWSKI, Damian     POL    Men                    Wg 84 KG   \n31161  REZAEI, Ghasem Gholamreza     IRI    Men                    Wg 96 KG   \n31162             TOTROV, Rustam     RUS    Men                    Wg 96 KG   \n31163          ALEKSANYAN, Artur     ARM    Men                    Wg 96 KG   \n31164             LIDBERG, Jimmy     SWE    Men                    Wg 96 KG   \n\n        Medal  \n0        Gold  \n1      Silver  \n2      Bronze  \n3        Gold  \n4      Silver  \n...       ...  \n31160  Bronze  \n31161    Gold  \n31162  Silver  \n31163  Bronze  \n31164  Bronze  \n\n[31165 rows x 9 columns]",
      "text/html": "<div>\n<style scoped>\n    .dataframe tbody tr th:only-of-type {\n        vertical-align: middle;\n    }\n\n    .dataframe tbody tr th {\n        vertical-align: top;\n    }\n\n    .dataframe thead th {\n        text-align: right;\n    }\n</style>\n<table border=\"1\" class=\"dataframe\">\n  <thead>\n    <tr style=\"text-align: right;\">\n      <th></th>\n      <th>Year</th>\n      <th>City</th>\n      <th>Sport</th>\n      <th>Discipline</th>\n      <th>Athlete</th>\n      <th>Country</th>\n      <th>Gender</th>\n      <th>Event</th>\n      <th>Medal</th>\n    </tr>\n  </thead>\n  <tbody>\n    <tr>\n      <th>0</th>\n      <td>1896</td>\n      <td>Athens</td>\n      <td>Aquatics</td>\n      <td>Swimming</td>\n      <td>HAJOS, Alfred</td>\n      <td>HUN</td>\n      <td>Men</td>\n      <td>100M Freestyle</td>\n      <td>Gold</td>\n    </tr>\n    <tr>\n      <th>1</th>\n      <td>1896</td>\n      <td>Athens</td>\n      <td>Aquatics</td>\n      <td>Swimming</td>\n      <td>HERSCHMANN, Otto</td>\n      <td>AUT</td>\n      <td>Men</td>\n      <td>100M Freestyle</td>\n      <td>Silver</td>\n    </tr>\n    <tr>\n      <th>2</th>\n      <td>1896</td>\n      <td>Athens</td>\n      <td>Aquatics</td>\n      <td>Swimming</td>\n      <td>DRIVAS, Dimitrios</td>\n      <td>GRE</td>\n      <td>Men</td>\n      <td>100M Freestyle For Sailors</td>\n      <td>Bronze</td>\n    </tr>\n    <tr>\n      <th>3</th>\n      <td>1896</td>\n      <td>Athens</td>\n      <td>Aquatics</td>\n      <td>Swimming</td>\n      <td>MALOKINIS, Ioannis</td>\n      <td>GRE</td>\n      <td>Men</td>\n      <td>100M Freestyle For Sailors</td>\n      <td>Gold</td>\n    </tr>\n    <tr>\n      <th>4</th>\n      <td>1896</td>\n      <td>Athens</td>\n      <td>Aquatics</td>\n      <td>Swimming</td>\n      <td>CHASAPIS, Spiridon</td>\n      <td>GRE</td>\n      <td>Men</td>\n      <td>100M Freestyle For Sailors</td>\n      <td>Silver</td>\n    </tr>\n    <tr>\n      <th>...</th>\n      <td>...</td>\n      <td>...</td>\n      <td>...</td>\n      <td>...</td>\n      <td>...</td>\n      <td>...</td>\n      <td>...</td>\n      <td>...</td>\n      <td>...</td>\n    </tr>\n    <tr>\n      <th>31160</th>\n      <td>2012</td>\n      <td>London</td>\n      <td>Wrestling</td>\n      <td>Wrestling Freestyle</td>\n      <td>JANIKOWSKI, Damian</td>\n      <td>POL</td>\n      <td>Men</td>\n      <td>Wg 84 KG</td>\n      <td>Bronze</td>\n    </tr>\n    <tr>\n      <th>31161</th>\n      <td>2012</td>\n      <td>London</td>\n      <td>Wrestling</td>\n      <td>Wrestling Freestyle</td>\n      <td>REZAEI, Ghasem Gholamreza</td>\n      <td>IRI</td>\n      <td>Men</td>\n      <td>Wg 96 KG</td>\n      <td>Gold</td>\n    </tr>\n    <tr>\n      <th>31162</th>\n      <td>2012</td>\n      <td>London</td>\n      <td>Wrestling</td>\n      <td>Wrestling Freestyle</td>\n      <td>TOTROV, Rustam</td>\n      <td>RUS</td>\n      <td>Men</td>\n      <td>Wg 96 KG</td>\n      <td>Silver</td>\n    </tr>\n    <tr>\n      <th>31163</th>\n      <td>2012</td>\n      <td>London</td>\n      <td>Wrestling</td>\n      <td>Wrestling Freestyle</td>\n      <td>ALEKSANYAN, Artur</td>\n      <td>ARM</td>\n      <td>Men</td>\n      <td>Wg 96 KG</td>\n      <td>Bronze</td>\n    </tr>\n    <tr>\n      <th>31164</th>\n      <td>2012</td>\n      <td>London</td>\n      <td>Wrestling</td>\n      <td>Wrestling Freestyle</td>\n      <td>LIDBERG, Jimmy</td>\n      <td>SWE</td>\n      <td>Men</td>\n      <td>Wg 96 KG</td>\n      <td>Bronze</td>\n    </tr>\n  </tbody>\n</table>\n<p>31165 rows × 9 columns</p>\n</div>"
     },
     "metadata": {},
     "output_type": "display_data"
    }
   ],
   "source": [
    "import pandas as pd\n",
    "df = pd.read_csv(\"Summer.csv\", delimiter=',')\n",
    "display(df)\n",
    "#df.dropna(inplace=True)"
   ]
  },
  {
   "cell_type": "markdown",
   "metadata": {},
   "source": [
    "# Summer Olympics Data Analysis Assignment"
   ]
  },
  {
   "cell_type": "markdown",
   "metadata": {},
   "source": [
    "### 1. In how many cities Summer Olympics is held so far?"
   ]
  },
  {
   "cell_type": "code",
   "execution_count": 3,
   "metadata": {},
   "outputs": [
    {
     "data": {
      "text/plain": "22"
     },
     "execution_count": 3,
     "metadata": {},
     "output_type": "execute_result"
    }
   ],
   "source": [
    "len(df['City'].unique())"
   ]
  },
  {
   "cell_type": "markdown",
   "metadata": {},
   "source": [
    "### 2. Which sport is having most number of Gold Medals so far? (Top 5)"
   ]
  },
  {
   "cell_type": "code",
   "execution_count": 4,
   "metadata": {},
   "outputs": [
    {
     "name": "stdout",
     "output_type": "stream",
     "text": [
      "         Sport  Medal\n",
      "0     Aquatics   1421\n",
      "1    Athletics   1215\n",
      "17      Rowing    890\n",
      "4   Gymnastics    820\n",
      "3      Fencing    552\n"
     ]
    },
    {
     "data": {
      "text/plain": "<AxesSubplot:xlabel='Sport'>"
     },
     "execution_count": 4,
     "metadata": {},
     "output_type": "execute_result"
    },
    {
     "data": {
      "text/plain": "<Figure size 360x360 with 1 Axes>",
      "image/png": "[encoded data removed]"
     },
     "metadata": {
      "needs_background": "light"
     },
     "output_type": "display_data"
    }
   ],
   "source": [
    "d = []\n",
    "data = df[df[\"Medal\"] == \"Gold\"][[\"Sport\",\"Medal\"]]\n",
    "data\n",
    "for Sport in data['Sport'].unique():\n",
    "    d.append([Sport , len(data[data['Sport']  == Sport])])\n",
    "res = pd.DataFrame(d,columns = ['Sport','Medal']).sort_values(by='Medal', ascending=False).head()\n",
    "print(res)\n",
    "res.plot(x = 'Sport',y = 'Medal', kind = 'bar', figsize = (5,5))"
   ]
  },
  {
   "cell_type": "markdown",
   "metadata": {},
   "source": [
    "### 3. Which sport is having most number of medals so far? (Top 5)"
   ]
  },
  {
   "cell_type": "code",
   "execution_count": 5,
   "metadata": {},
   "outputs": [
    {
     "name": "stdout",
     "output_type": "stream",
     "text": [
      "Sport\n",
      "Aquatics      4170\n",
      "Athletics     3638\n",
      "Rowing        2667\n",
      "Gymnastics    2307\n",
      "Fencing       1613\n",
      "Name: Medal, dtype: int64\n"
     ]
    },
    {
     "data": {
      "text/plain": "<AxesSubplot:xlabel='Sport'>"
     },
     "execution_count": 5,
     "metadata": {},
     "output_type": "execute_result"
    },
    {
     "data": {
      "text/plain": "<Figure size 432x288 with 1 Axes>",
      "image/png": "[encoded data removed]"
     },
     "metadata": {
      "needs_background": "light"
     },
     "output_type": "display_data"
    }
   ],
   "source": [
    "res = df.groupby('Sport').count()['Medal'].sort_values(ascending = False).head()\n",
    "print(res)\n",
    "res.plot.bar()"
   ]
  },
  {
   "cell_type": "markdown",
   "metadata": {},
   "source": [
    "### 4. Which player has won most number of medals? (Top 5)"
   ]
  },
  {
   "cell_type": "code",
   "execution_count": null,
   "metadata": {
    "pycharm": {
     "is_executing": true
    }
   },
   "outputs": [],
   "source": [
    "data = []\n",
    "for Athlete in df['Athlete'].unique():\n",
    "    data.append([Athlete , len(df[df['Athlete']  == Athlete])])\n",
    "res = pd.DataFrame(data,columns = ['Athlete','Medal']).sort_values(by='Medal', ascending=False).head()\n",
    "print(res)\n",
    "res.plot(x = 'Athlete',y = 'Medal', kind = 'bar', figsize = (5,5))"
   ]
  },
  {
   "cell_type": "markdown",
   "metadata": {},
   "source": [
    "### 5. Which player has won most number Gold Medals of medals? (Top 5)"
   ]
  },
  {
   "cell_type": "code",
   "execution_count": null,
   "metadata": {
    "pycharm": {
     "is_executing": true
    }
   },
   "outputs": [],
   "source": [
    "d = []\n",
    "data = df[df[\"Medal\"] == \"Gold\"][[\"Athlete\",\"Medal\"]]\n",
    "data\n",
    "for Athlete in data['Athlete'].unique():\n",
    "    d.append([Athlete , len(data[data['Athlete']  == Athlete])])\n",
    "res = pd.DataFrame(d,columns = ['Athlete','Medal']).sort_values(by='Medal', ascending=False).head()\n",
    "print(res)\n",
    "res.plot(x = 'Athlete',y = 'Medal', kind = 'bar', figsize = (5,5))"
   ]
  },
  {
   "cell_type": "markdown",
   "metadata": {},
   "source": [
    "### 6. In which year India won first Gold Medal in Summer Olympics?"
   ]
  },
  {
   "cell_type": "code",
   "execution_count": null,
   "metadata": {
    "pycharm": {
     "is_executing": true
    }
   },
   "outputs": [],
   "source": [
    "data = df[df[\"Country\"] == \"IND\"][[\"Year\",\"Medal\"]]\n",
    "data = data[data[\"Medal\"] == \"Gold\"]\n",
    "print(data.iloc[0][\"Year\"])"
   ]
  },
  {
   "cell_type": "markdown",
   "metadata": {},
   "source": [
    "### 7. Which event is most popular in terms on number of players? (Top 5)"
   ]
  },
  {
   "cell_type": "code",
   "execution_count": null,
   "metadata": {
    "pycharm": {
     "is_executing": true
    }
   },
   "outputs": [],
   "source": [
    "data=[]\n",
    "for Event in df[\"Event\"].unique():\n",
    "  data.append([Event, len(df[df[\"Event\"]==Event])])\n",
    "event=pd.DataFrame(data,columns=[\"EVENT\",\"PLAYERS\"])\n",
    "event=event.sort_values(by=\"PLAYERS\",ascending=False).head()\n",
    "print(event)\n",
    "event.plot(x=\"EVENT\",y=\"PLAYERS\",kind=\"bar\",figsize=(5,5))"
   ]
  },
  {
   "cell_type": "markdown",
   "metadata": {},
   "source": [
    "### 8. Which sport is having most female Gold Medalists? (Top 5)"
   ]
  },
  {
   "cell_type": "code",
   "execution_count": null,
   "metadata": {
    "pycharm": {
     "is_executing": true
    }
   },
   "outputs": [],
   "source": [
    "d = []\n",
    "data = df[df[\"Gender\"] == \"Women\"]\n",
    "data = data[data[\"Medal\"] == \"Gold\"][[\"Sport\", \"Gender\"]]\n",
    "for Sport in data['Sport'].unique():\n",
    "    d.append([Sport , len(data[data['Sport']  == Sport])])\n",
    "res = pd.DataFrame(d,columns = ['Sport','Medal']).sort_values(by='Medal', ascending=False).head()\n",
    "print(res)\n",
    "res.plot(x = 'Sport',y = 'Medal', kind = 'bar', figsize = (5,5))"
   ]
  }
 ],
 "metadata": {
  "kernelspec": {
   "display_name": "Python 3",
   "language": "python",
   "name": "python3"
  },
  "language_info": {
   "codemirror_mode": {
    "name": "ipython",
    "version": 3
   },
   "file_extension": ".py",
   "mimetype": "text/x-python",
   "name": "python",
   "nbconvert_exporter": "python",
   "pygments_lexer": "ipython3",
   "version": "3.8.8"
  }
 },
 "nbformat": 4,
 "nbformat_minor": 2
}